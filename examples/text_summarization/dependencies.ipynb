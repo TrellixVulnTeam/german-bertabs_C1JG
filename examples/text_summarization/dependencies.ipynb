{
 "cells": [
  {
   "cell_type": "code",
   "execution_count": null,
   "metadata": {},
   "outputs": [],
   "source": [
    "!pip install transformers\n",
    "!pip install pyrouge\n",
    "!pip install rouge\n",
    "!pip install indic-nlp-library\n",
    "!pip install tensorboardX\n",
    "!pip install jsonlines\n",
    "!pip install googledrivedownloader\n",
    "!pip install scrapbook\n",
    "!pip install ipywidgets\n",
    "!pip install googletrans\n",
    "!pip install translate\n",
    "!pip install bert-score\n",
    "!pip install plotly"
   ]
  },
  {
   "cell_type": "code",
   "execution_count": null,
   "metadata": {},
   "outputs": [],
   "source": [
    "!jupyter nbextension enable --py widgetsnbextension"
   ]
  }
 ],
 "metadata": {
  "language_info": {
   "codemirror_mode": {
    "name": "ipython",
    "version": 3
   },
   "file_extension": ".py",
   "mimetype": "text/x-python",
   "name": "python",
   "nbconvert_exporter": "python",
   "pygments_lexer": "ipython3",
   "version": 3
  },
  "orig_nbformat": 2
 },
 "nbformat": 4,
 "nbformat_minor": 2
}